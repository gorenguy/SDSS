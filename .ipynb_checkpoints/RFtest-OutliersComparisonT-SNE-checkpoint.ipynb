{
 "cells": [
  {
   "cell_type": "markdown",
   "metadata": {},
   "source": [
    "# Import"
   ]
  },
  {
   "cell_type": "code",
   "execution_count": 23,
   "metadata": {
    "collapsed": true
   },
   "outputs": [],
   "source": [
    "import numpy as np\n",
    "import sklearn\n",
    "import sklearn.ensemble\n",
    "import sklearn.manifold\n",
    "import matplotlib.pyplot as plt\n",
    "import scipy.spatial\n",
    "import time\n",
    "import math\n",
    "from RF import *"
   ]
  },
  {
   "cell_type": "markdown",
   "metadata": {},
   "source": [
    "# Create Data"
   ]
  },
  {
   "cell_type": "code",
   "execution_count": 24,
   "metadata": {
    "collapsed": true
   },
   "outputs": [],
   "source": [
    "# Create Real Data\n",
    "N = 1000\n",
    "X, x_total, y_total=create2dobs(N)\n",
    "\n",
    "# create object IDs that will be just integers\n",
    "obj_ids = np.arange(len(x_total))\n",
    "\n",
    "# Create Synthetic Data\n",
    "X_syn = return_synthetic_data(X)\n",
    "\n",
    "# Merge Real & Synthetic\n",
    "X_total, Y_total = merge_work_and_synthetic_samples(X, X_syn)"
   ]
  },
  {
   "cell_type": "markdown",
   "metadata": {},
   "source": [
    "# RF"
   ]
  },
  {
   "cell_type": "code",
   "execution_count": 25,
   "metadata": {},
   "outputs": [
    {
     "name": "stdout",
     "output_type": "stream",
     "text": [
      "Avg. prob. of Real in RF tree given a Real observation:  0.854500924603\n"
     ]
    }
   ],
   "source": [
    "# declare an RF\n",
    "N_TRAIN = 200 # number of trees in the forest\n",
    "rand_f = sklearn.ensemble.RandomForestClassifier(n_estimators=N_TRAIN)\n",
    "rand_f.fit(X_total, Y_total)\n",
    "\n",
    "## Object's probability\n",
    "Z2=rand_f.predict_proba(X)[:,0]\n",
    "print('Avg. prob. of Real in RF tree given a Real observation: '),\n",
    "print(Z2.mean())"
   ]
  },
  {
   "cell_type": "markdown",
   "metadata": {},
   "source": [
    "# Calculate Distance Matrices"
   ]
  },
  {
   "cell_type": "code",
   "execution_count": null,
   "metadata": {},
   "outputs": [
    {
     "name": "stdout",
     "output_type": "stream",
     "text": [
      "build_similarity_matrix3 time: 1.12300014496\n"
     ]
    }
   ],
   "source": [
    "# Calculate RF distance matrix\n",
    "start=time.time()\n",
    "dis_mat = calcDisMat(rand_f, X)\n",
    "end=time.time()\n",
    "print('build_similarity_matrix3 time:'),\n",
    "print(end-start)\n",
    "\n",
    "# Calculate Euclidean Distance Matrix\n",
    "dis_matEuc=scipy.spatial.distance_matrix(X,X)"
   ]
  },
  {
   "cell_type": "markdown",
   "metadata": {},
   "source": [
    "# Calculate Wnum"
   ]
  },
  {
   "cell_type": "code",
   "execution_count": null,
   "metadata": {
    "collapsed": true
   },
   "outputs": [],
   "source": [
    "num=5\n",
    "\n",
    "# Calculate Wnum by RF\n",
    "wnum = calculateWnum(dis_mat, obj_ids, num)\n",
    "\n",
    "# Calculate Wnum by Euclidean\n",
    "wnumEuc=calculateWnum(dis_matEuc,obj_ids,num)"
   ]
  },
  {
   "cell_type": "markdown",
   "metadata": {},
   "source": [
    "# Get Outlilers"
   ]
  },
  {
   "cell_type": "code",
   "execution_count": null,
   "metadata": {},
   "outputs": [],
   "source": [
    "N_outliers = 50\n",
    "\n",
    "wnum_outliers = np.sort(wnum)[::-1][:N_outliers]\n",
    "obj_ids_outliers = obj_ids[np.argsort(wnum)][::-1][:N_outliers]\n",
    "\n",
    "wnum_outliersEuc = np.sort(wnumEuc)[::-1][:N_outliers]\n",
    "obj_ids_outliersEuc = obj_ids[np.argsort(wnumEuc)][::-1][:N_outliers]"
   ]
  },
  {
   "cell_type": "markdown",
   "metadata": {},
   "source": [
    "# Plot Data"
   ]
  },
  {
   "cell_type": "code",
   "execution_count": null,
   "metadata": {
    "collapsed": true
   },
   "outputs": [],
   "source": [
    "plt.rcParams['figure.figsize'] = 5, 5\n",
    "plt.title(\"Data and outliers\")\n",
    "plt.plot(X[:,0], X[:,1], \"*k\", label=\"input data\", markersize=4)\n",
    "plt.plot(X[obj_ids_outliers, 0], X[obj_ids_outliers, 1], \"om\", label=\"RF outliers\", markersize=8)\n",
    "plt.plot(X[obj_ids_outliersEuc, 0], X[obj_ids_outliersEuc, 1], \"*g\", label=\"Euclidean outliers\", markersize=8)\n",
    "plt.xlabel(\"Feature 1\")\n",
    "plt.ylabel(\"Feature 2\")\n",
    "plt.legend(loc=\"best\")"
   ]
  },
  {
   "cell_type": "code",
   "execution_count": null,
   "metadata": {
    "collapsed": true
   },
   "outputs": [],
   "source": [
    "# Plot Euclidean T-sne"
   ]
  },
  {
   "cell_type": "code",
   "execution_count": null,
   "metadata": {
    "collapsed": true
   },
   "outputs": [],
   "source": [
    "sne = sklearn.manifold.TSNE(n_components=2, perplexity=100, n_iter=10000,metric='precomputed',learning_rate=100).fit_transform(dis_mat)\n",
    "plotSNE(sne)"
   ]
  },
  {
   "cell_type": "code",
   "execution_count": null,
   "metadata": {},
   "outputs": [],
   "source": [
    "sneEuc = sklearn.manifold.TSNE(n_components=2, perplexity=100, n_iter=10000).fit_transform(X)\n",
    "plotSNE(sneEuc)"
   ]
  }
 ],
 "metadata": {
  "kernelspec": {
   "display_name": "Python 2",
   "language": "python",
   "name": "python2"
  },
  "language_info": {
   "codemirror_mode": {
    "name": "ipython",
    "version": 2
   },
   "file_extension": ".py",
   "mimetype": "text/x-python",
   "name": "python",
   "nbconvert_exporter": "python",
   "pygments_lexer": "ipython2",
   "version": "2.7.13"
  }
 },
 "nbformat": 4,
 "nbformat_minor": 2
}
